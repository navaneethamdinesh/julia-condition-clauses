{
 "cells": [
  {
   "cell_type": "markdown",
   "id": "f67a5475",
   "metadata": {},
   "source": [
    "# Display the items Names to the user"
   ]
  },
  {
   "cell_type": "code",
   "execution_count": 1,
   "id": "edc2a901",
   "metadata": {},
   "outputs": [
    {
     "data": {
      "text/plain": [
       "\"Basmati rice,Wheat flour,Ragi flour,Chana dal ,Red chili powder,Pepper powder,Coconut oil,Groundnut oil,Peanuts,Cashew nuts\""
      ]
     },
     "execution_count": 1,
     "metadata": {},
     "output_type": "execute_result"
    }
   ],
   "source": [
    "items = \"Basmati rice,Wheat flour,Ragi flour,Chana dal ,Red chili powder,Pepper powder,Coconut oil,Groundnut oil,Peanuts,Cashew nuts\""
   ]
  },
  {
   "cell_type": "code",
   "execution_count": 2,
   "id": "46c5f390",
   "metadata": {},
   "outputs": [
    {
     "data": {
      "text/plain": [
       "\"Basmati rice,Wheat flour,Ragi flour,Chana dal ,Red chili powder,Pepper powder,Coconut oil,Groundnut oil,Peanuts,Cashew nuts\""
      ]
     },
     "execution_count": 2,
     "metadata": {},
     "output_type": "execute_result"
    }
   ],
   "source": [
    "items"
   ]
  },
  {
   "cell_type": "markdown",
   "id": "977fc92c",
   "metadata": {},
   "source": [
    "# Tell them to choose one items from the list"
   ]
  },
  {
   "cell_type": "code",
   "execution_count": 3,
   "id": "f345ff7e",
   "metadata": {},
   "outputs": [
    {
     "name": "stdout",
     "output_type": "stream",
     "text": [
      "Enter Any One Items From The  List: \n",
      "stdin> Groundnut oil\n"
     ]
    },
    {
     "data": {
      "text/plain": [
       "\"Groundnut oil\""
      ]
     },
     "execution_count": 3,
     "metadata": {},
     "output_type": "execute_result"
    }
   ],
   "source": [
    "println(\"Enter Any One Items From The  List: \")\n",
    "items = readline()"
   ]
  },
  {
   "cell_type": "markdown",
   "id": "19dfd015",
   "metadata": {},
   "source": [
    "# Show the Output results as You Selected what categories of items"
   ]
  },
  {
   "cell_type": "code",
   "execution_count": 4,
   "id": "632d2854",
   "metadata": {},
   "outputs": [
    {
     "name": "stdout",
     "output_type": "stream",
     "text": [
      "you picked a Oil\n"
     ]
    }
   ],
   "source": [
    "if items == \"Basmati rice\" \n",
    "    println(\"you picked a Rice\")\n",
    "elseif items == \"Wheat flour\" \n",
    "    println(\"you picked a Flour\")\n",
    "elseif items == \"Ragi flour\" \n",
    "    println(\"you picked Flour\")\n",
    "elseif items == \"Chana dal\" \n",
    "    println(\"you picked a Dal\")\n",
    "elseif items == \"Red chili powder\" \n",
    "    println(\"you picked a Spice Powders\")\n",
    "elseif items == \"Pepper powder\" \n",
    "    println(\"you picked a Spice Powders\")\n",
    "elseif items == \"Coconut oil\" \n",
    "    println(\"you picked a Oil\")\n",
    "elseif items == \"Groundnut oil\" \n",
    "    println(\"you picked a Oil\")\n",
    "elseif items == \"Peanuts\" \n",
    "    println(\"you picked a Nuts\")\n",
    "elseif items == \"Cashew nuts\"\n",
    "    println(\"you picked a Nuts\")\n",
    "end   "
   ]
  }
 ],
 "metadata": {
  "kernelspec": {
   "display_name": "Julia 1.8.3",
   "language": "julia",
   "name": "julia-1.8"
  },
  "language_info": {
   "file_extension": ".jl",
   "mimetype": "application/julia",
   "name": "julia",
   "version": "1.8.3"
  }
 },
 "nbformat": 4,
 "nbformat_minor": 5
}
